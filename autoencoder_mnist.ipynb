{
 "cells": [
  {
   "cell_type": "code",
   "execution_count": 104,
   "id": "bae1a973",
   "metadata": {},
   "outputs": [],
   "source": [
    "import tensorflow as tf\n",
    "from tensorflow import keras\n",
    "import matplotlib.pyplot as plt\n",
    "import cv2\n",
    "import numpy as np\n"
   ]
  },
  {
   "cell_type": "code",
   "execution_count": 105,
   "id": "852e232e",
   "metadata": {},
   "outputs": [],
   "source": [
    "(x_train, y_train),(x_test, y_test) = keras.datasets.mnist.load_data()"
   ]
  },
  {
   "cell_type": "code",
   "execution_count": 106,
   "id": "7e749267",
   "metadata": {},
   "outputs": [
    {
     "data": {
      "text/plain": [
       "<matplotlib.image.AxesImage at 0x16cd3a668f0>"
      ]
     },
     "execution_count": 106,
     "metadata": {},
     "output_type": "execute_result"
    },
    {
     "data": {
      "image/png": "[encoded data removed]",
      "text/plain": [
       "<Figure size 640x480 with 1 Axes>"
      ]
     },
     "metadata": {},
     "output_type": "display_data"
    }
   ],
   "source": [
    "# plt.imshow(x_train[0])\n",
    "plt.imshow(x_train[0], cmap=\"gray\")"
   ]
  },
  {
   "cell_type": "code",
   "execution_count": 107,
   "id": "1a13c2c5",
   "metadata": {},
   "outputs": [
    {
     "name": "stdout",
     "output_type": "stream",
     "text": [
      "\n",
      "(60000, 28, 28)\n",
      "(28, 28)\n",
      "\n"
     ]
    }
   ],
   "source": [
    "print(f\"\"\"\n",
    "{x_train.shape}\n",
    "{x_train[0].shape}\n",
    "\"\"\")"
   ]
  },
  {
   "cell_type": "code",
   "execution_count": 108,
   "id": "aba1574e",
   "metadata": {},
   "outputs": [],
   "source": [
    "# x_train[0]\n",
    "x_train = x_train/255.0\n",
    "x_test = x_test/255.0"
   ]
  },
  {
   "cell_type": "markdown",
   "id": "1c265ea9",
   "metadata": {},
   "source": [
    "### so 784 features could be too much to input in a NN - so we condense it down => Encode"
   ]
  },
  {
   "cell_type": "code",
   "execution_count": 109,
   "id": "3eb56068",
   "metadata": {},
   "outputs": [
    {
     "name": "stdout",
     "output_type": "stream",
     "text": [
      "Model: \"autoencoder\"\n",
      "_________________________________________________________________\n",
      " Layer (type)                Output Shape              Param #   \n",
      "=================================================================\n",
      " img (InputLayer)            [(None, 28, 28, 1)]       0         \n",
      "                                                                 \n",
      " flatten_8 (Flatten)         (None, 784)               0         \n",
      "                                                                 \n",
      " dense_16 (Dense)            (None, 64)                50240     \n",
      "                                                                 \n",
      " dense_17 (Dense)            (None, 784)               50960     \n",
      "                                                                 \n",
      " reshape_7 (Reshape)         (None, 28, 28, 1)         0         \n",
      "                                                                 \n",
      "=================================================================\n",
      "Total params: 101,200\n",
      "Trainable params: 101,200\n",
      "Non-trainable params: 0\n",
      "_________________________________________________________________\n",
      "Epoch 1/3\n",
      "1688/1688 [==============================] - 6s 3ms/step - loss: 0.0179 - val_loss: 0.0122\n",
      "Epoch 2/3\n",
      "1688/1688 [==============================] - 5s 3ms/step - loss: 0.0117 - val_loss: 0.0113\n",
      "Epoch 3/3\n",
      "1688/1688 [==============================] - 5s 3ms/step - loss: 0.0111 - val_loss: 0.0111\n"
     ]
    },
    {
     "data": {
      "text/plain": [
       "<keras.callbacks.History at 0x16cd5382020>"
      ]
     },
     "execution_count": 109,
     "metadata": {},
     "output_type": "execute_result"
    }
   ],
   "source": [
    "encoder_input = keras.Input(shape=(28,28,1), name= \"img\")\n",
    "x = keras.layers.Flatten()(encoder_input)\n",
    "encoder_output = keras.layers.Dense(64, activation=\"relu\")(x)\n",
    "# encoder_output = keras.layers.Dense(32, activation=\"relu\")(x)\n",
    "# encoder_output = keras.layers.Dense(9, activation=\"relu\")(x)\n",
    "\n",
    "\n",
    "encoder = keras.Model(encoder_input,encoder_output, name=\"encoder\")\n",
    "\n",
    "decoder_input = keras.layers.Dense(784, activation=\"relu\")(encoder_output)\n",
    "decoder_ouput = keras.layers.Reshape((28,28,1))(decoder_input)\n",
    "\n",
    "# decoder = keras.Model(decoder_input,decoder_ouput, name=\"decoder\")\n",
    "\n",
    "opt = keras.optimizers.Adam(learning_rate=0.001)\n",
    "\n",
    "autoencoder = keras.Model(encoder_input, decoder_ouput, name=\"autoencoder\")\n",
    "autoencoder.summary()\n",
    "\n",
    "autoencoder.compile(opt, loss=\"mse\")\n",
    "autoencoder.fit(x_train, x_train, epochs=3, batch_size=32, validation_split=0.1) # notice X and Y mapping is same"
   ]
  },
  {
   "cell_type": "code",
   "execution_count": null,
   "id": "eb4ca23a",
   "metadata": {},
   "outputs": [],
   "source": []
  },
  {
   "cell_type": "code",
   "execution_count": null,
   "id": "f63804ae",
   "metadata": {},
   "outputs": [],
   "source": []
  },
  {
   "cell_type": "code",
   "execution_count": 110,
   "id": "f63f824a",
   "metadata": {},
   "outputs": [
    {
     "data": {
      "text/plain": [
       "(9,)"
      ]
     },
     "execution_count": 110,
     "metadata": {},
     "output_type": "execute_result"
    }
   ],
   "source": [
    "x_test[0].shape\n",
    "example.shape"
   ]
  },
  {
   "cell_type": "code",
   "execution_count": 111,
   "id": "d66efd80",
   "metadata": {},
   "outputs": [
    {
     "name": "stdout",
     "output_type": "stream",
     "text": [
      "1/1 [==============================] - 0s 66ms/step\n",
      "[1.2145712  2.3855355  1.1111735  0.63278115 1.7312034  1.0105746\n",
      " 0.3639913  0.38130656 1.3197418  1.7868679  1.1091295  0.9323977\n",
      " 0.96066844 0.72915536 1.1320548  0.75348586 1.1965468  0.5184941\n",
      " 1.5740242  1.6667309  1.9338062  1.0981424  0.95672333 2.3750508\n",
      " 0.         0.85420865 1.0632099  0.18030982 0.3437332  2.0731192\n",
      " 0.73289394 0.41498983 0.         0.7923843  2.9819088  0.3980064\n",
      " 0.         0.50724036 0.7665838  3.2994819  0.         1.3597467\n",
      " 0.6599107  0.74766254 0.6793967  0.8910124  0.38600525 0.9968915\n",
      " 0.909176   1.1046824  0.58000183 2.360061   0.7355446  1.1077491\n",
      " 1.3071644  0.69324356 0.7450401  0.4801472  1.9930714  0.23713674\n",
      " 0.57819164 0.45341232 0.44556224 1.0297805 ]\n"
     ]
    }
   ],
   "source": [
    "example = encoder.predict([x_test[0].reshape(-1,28,28,1)])[0]\n",
    "print(example)"
   ]
  },
  {
   "cell_type": "code",
   "execution_count": 112,
   "id": "978521e5",
   "metadata": {},
   "outputs": [
    {
     "data": {
      "text/plain": [
       "(64,)"
      ]
     },
     "execution_count": 112,
     "metadata": {},
     "output_type": "execute_result"
    }
   ],
   "source": [
    "example.shape"
   ]
  },
  {
   "cell_type": "code",
   "execution_count": 114,
   "id": "f4336941",
   "metadata": {},
   "outputs": [
    {
     "data": {
      "text/plain": [
       "<matplotlib.image.AxesImage at 0x16cd3b8c070>"
      ]
     },
     "execution_count": 114,
     "metadata": {},
     "output_type": "execute_result"
    },
    {
     "data": {
      "image/png": "[encoded data removed]",
      "text/plain": [
       "<Figure size 640x480 with 1 Axes>"
      ]
     },
     "metadata": {},
     "output_type": "display_data"
    }
   ],
   "source": [
    "plt.imshow(example.reshape((8,8)), cmap=\"gray\")"
   ]
  },
  {
   "cell_type": "code",
   "execution_count": 115,
   "id": "db36befc",
   "metadata": {},
   "outputs": [
    {
     "data": {
      "text/plain": [
       "<matplotlib.image.AxesImage at 0x16cd4d20820>"
      ]
     },
     "execution_count": 115,
     "metadata": {},
     "output_type": "execute_result"
    },
    {
     "data": {
      "image/png": "[encoded data removed]",
      "text/plain": [
       "<Figure size 640x480 with 1 Axes>"
      ]
     },
     "metadata": {},
     "output_type": "display_data"
    }
   ],
   "source": [
    "plt.imshow(x_test[0], cmap=\"gray\")"
   ]
  },
  {
   "cell_type": "code",
   "execution_count": 116,
   "id": "07b4143c",
   "metadata": {},
   "outputs": [
    {
     "name": "stdout",
     "output_type": "stream",
     "text": [
      "1/1 [==============================] - 0s 55ms/step\n",
      "(28, 28, 1)\n"
     ]
    }
   ],
   "source": [
    "ae_out = autoencoder.predict([x_test[0].reshape(-1,28,28,1)])[0]\n",
    "print(ae_out.shape)"
   ]
  },
  {
   "cell_type": "code",
   "execution_count": 117,
   "id": "cd6f3111",
   "metadata": {},
   "outputs": [
    {
     "data": {
      "text/plain": [
       "<matplotlib.image.AxesImage at 0x16cd4dade40>"
      ]
     },
     "execution_count": 117,
     "metadata": {},
     "output_type": "execute_result"
    },
    {
     "data": {
      "image/png": "[encoded data removed]",
      "text/plain": [
       "<Figure size 640x480 with 1 Axes>"
      ]
     },
     "metadata": {},
     "output_type": "display_data"
    }
   ],
   "source": [
    "plt.imshow(ae_out, cmap=\"gray\")"
   ]
  },
  {
   "cell_type": "markdown",
   "id": "bf208dea",
   "metadata": {},
   "source": [
    "### unsupervised learning effect - we dont specifically train the model for input data with noise, but it return a pretty significantly noise reduced version - so it acts as a noise remover too"
   ]
  },
  {
   "cell_type": "code",
   "execution_count": 123,
   "id": "0ebca9bd",
   "metadata": {},
   "outputs": [],
   "source": [
    "import random \n",
    "\n",
    "def add_noise(img, random_chance=5):\n",
    "    noisy = []\n",
    "    for row in img:\n",
    "        new_row=[]\n",
    "        for pix in row:\n",
    "            if random.choice(range(100)) <= random_chance:\n",
    "                new_val = random.uniform(0,1)\n",
    "                new_row.append(new_val)\n",
    "            else:\n",
    "                new_row.append(pix)\n",
    "        noisy.append(new_row)\n",
    "    return np.array(noisy)"
   ]
  },
  {
   "cell_type": "code",
   "execution_count": 124,
   "id": "f08d9492",
   "metadata": {},
   "outputs": [
    {
     "data": {
      "text/plain": [
       "<matplotlib.image.AxesImage at 0x16cd4daf970>"
      ]
     },
     "execution_count": 124,
     "metadata": {},
     "output_type": "execute_result"
    },
    {
     "data": {
      "image/png": "[encoded data removed]",
      "text/plain": [
       "<Figure size 640x480 with 1 Axes>"
      ]
     },
     "metadata": {},
     "output_type": "display_data"
    }
   ],
   "source": [
    "noisy = add_noise(x_test[0])\n",
    "plt.imshow(noisy, cmap=\"gray\")"
   ]
  },
  {
   "cell_type": "code",
   "execution_count": 126,
   "id": "365ef896",
   "metadata": {},
   "outputs": [
    {
     "name": "stdout",
     "output_type": "stream",
     "text": [
      "1/1 [==============================] - 0s 23ms/step\n"
     ]
    },
    {
     "data": {
      "text/plain": [
       "<matplotlib.image.AxesImage at 0x16cd4f8e380>"
      ]
     },
     "execution_count": 126,
     "metadata": {},
     "output_type": "execute_result"
    },
    {
     "data": {
      "image/png": "[encoded data removed]",
      "text/plain": [
       "<Figure size 640x480 with 1 Axes>"
      ]
     },
     "metadata": {},
     "output_type": "display_data"
    }
   ],
   "source": [
    "ae_out = autoencoder.predict([noisy.reshape(-1,28,28,1)])[0]\n",
    "plt.imshow(ae_out, cmap=\"gray\")"
   ]
  },
  {
   "cell_type": "code",
   "execution_count": null,
   "id": "48ca95c3",
   "metadata": {},
   "outputs": [],
   "source": []
  },
  {
   "cell_type": "code",
   "execution_count": null,
   "id": "f3f49dc0",
   "metadata": {},
   "outputs": [],
   "source": []
  },
  {
   "cell_type": "code",
   "execution_count": null,
   "id": "e978b3e3",
   "metadata": {},
   "outputs": [],
   "source": []
  },
  {
   "cell_type": "code",
   "execution_count": null,
   "id": "edd926df",
   "metadata": {},
   "outputs": [],
   "source": []
  }
 ],
 "metadata": {
  "kernelspec": {
   "display_name": "Python 3 (ipykernel)",
   "language": "python",
   "name": "python3"
  },
  "language_info": {
   "codemirror_mode": {
    "name": "ipython",
    "version": 3
   },
   "file_extension": ".py",
   "mimetype": "text/x-python",
   "name": "python",
   "nbconvert_exporter": "python",
   "pygments_lexer": "ipython3",
   "version": "3.10.7"
  }
 },
 "nbformat": 4,
 "nbformat_minor": 5
}
